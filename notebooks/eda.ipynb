{
 "cells": [
  {
   "cell_type": "code",
   "execution_count": 1,
   "id": "f439c310",
   "metadata": {},
   "outputs": [
    {
     "ename": "ModuleNotFoundError",
     "evalue": "No module named 'pandas'",
     "output_type": "error",
     "traceback": [
      "\u001b[31m---------------------------------------------------------------------------\u001b[39m",
      "\u001b[31mModuleNotFoundError\u001b[39m                       Traceback (most recent call last)",
      "\u001b[36mCell\u001b[39m\u001b[36m \u001b[39m\u001b[32mIn[1]\u001b[39m\u001b[32m, line 1\u001b[39m\n\u001b[32m----> \u001b[39m\u001b[32m1\u001b[39m \u001b[38;5;28;01mimport\u001b[39;00m\u001b[38;5;250m \u001b[39m\u001b[34;01mpandas\u001b[39;00m\u001b[38;5;250m \u001b[39m\u001b[38;5;28;01mas\u001b[39;00m\u001b[38;5;250m \u001b[39m\u001b[34;01mpd\u001b[39;00m\n\u001b[32m      2\u001b[39m \u001b[38;5;28;01mimport\u001b[39;00m\u001b[38;5;250m \u001b[39m\u001b[34;01mmatplotlib\u001b[39;00m\u001b[34;01m.\u001b[39;00m\u001b[34;01mpyplot\u001b[39;00m\u001b[38;5;250m \u001b[39m\u001b[38;5;28;01mas\u001b[39;00m\u001b[38;5;250m \u001b[39m\u001b[34;01mplt\u001b[39;00m\n\u001b[32m      3\u001b[39m \u001b[38;5;28;01mimport\u001b[39;00m\u001b[38;5;250m \u001b[39m\u001b[34;01mseaborn\u001b[39;00m\u001b[38;5;250m \u001b[39m\u001b[38;5;28;01mas\u001b[39;00m\u001b[38;5;250m \u001b[39m\u001b[34;01msns\u001b[39;00m\n",
      "\u001b[31mModuleNotFoundError\u001b[39m: No module named 'pandas'"
     ]
    }
   ],
   "source": [
    "import pandas as pd\n",
    "import matplotlib.pyplot as plt\n",
    "import seaborn as sns"
   ]
  },
  {
   "cell_type": "code",
   "execution_count": null,
   "id": "2b0422a9",
   "metadata": {},
   "outputs": [],
   "source": [
    "# Load data\n",
    "df = pd.read_csv(\"../data/sample_transactions.csv\")"
   ]
  },
  {
   "cell_type": "code",
   "execution_count": null,
   "id": "b4856d47",
   "metadata": {},
   "outputs": [],
   "source": [
    "# Convert to datetime\n",
    "df[\"date\"] = pd.to_datetime(df[\"date\"])\n",
    "df[\"month\"] = df[\"date\"].dt.to_period(\"M\")"
   ]
  },
  {
   "cell_type": "code",
   "execution_count": null,
   "id": "e2488b31",
   "metadata": {},
   "outputs": [],
   "source": [
    "# Basic info\n",
    "print(df.head())\n",
    "print(\"\\nSummary stats:\\n\", df.describe())\n",
    "print(\"\\nTransactions per category:\\n\", df[\"category\"].value_counts())"
   ]
  },
  {
   "cell_type": "code",
   "execution_count": null,
   "id": "24971622",
   "metadata": {},
   "outputs": [],
   "source": [
    "# --- Monthly totals ---\n",
    "monthly_totals = df.groupby(\"month\")[\"amount\"].sum().reset_index()\n",
    "plt.figure(figsize=(10, 4))\n",
    "sns.lineplot(data=monthly_totals, x=\"month\", y=\"amount\", marker=\"o\")\n",
    "plt.title(\"Total Spending per Month\")\n",
    "plt.xlabel(\"Month\")\n",
    "plt.ylabel(\"Amount ($)\")\n",
    "plt.xticks(rotation=45)\n",
    "plt.tight_layout()\n",
    "plt.show()"
   ]
  },
  {
   "cell_type": "code",
   "execution_count": null,
   "id": "bfa323e4",
   "metadata": {},
   "outputs": [],
   "source": [
    "# --- Category breakdown ---\n",
    "category_totals = df.groupby(\"category\")[\"amount\"].sum().sort_values(ascending=False)\n",
    "plt.figure(figsize=(8, 4))\n",
    "sns.barplot(x=category_totals.values, y=category_totals.index)\n",
    "plt.title(\"Total Spending by Category\")\n",
    "plt.xlabel(\"Amount ($)\")\n",
    "plt.tight_layout()\n",
    "plt.show()"
   ]
  },
  {
   "cell_type": "code",
   "execution_count": null,
   "id": "cbe027a5",
   "metadata": {},
   "outputs": [],
   "source": [
    "# --- Credits vs Debits ---\n",
    "plt.figure(figsize=(6, 4))\n",
    "sns.countplot(data=df, x=\"type\")\n",
    "plt.title(\"Transaction Type Distribution\")\n",
    "plt.show()"
   ]
  }
 ],
 "metadata": {
  "kernelspec": {
   "display_name": "venv",
   "language": "python",
   "name": "python3"
  },
  "language_info": {
   "codemirror_mode": {
    "name": "ipython",
    "version": 3
   },
   "file_extension": ".py",
   "mimetype": "text/x-python",
   "name": "python",
   "nbconvert_exporter": "python",
   "pygments_lexer": "ipython3",
   "version": "3.12.2"
  }
 },
 "nbformat": 4,
 "nbformat_minor": 5
}
